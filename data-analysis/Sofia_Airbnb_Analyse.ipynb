{
  "nbformat": 4,
  "nbformat_minor": 0,
  "metadata": {
    "kernelspec": {
      "display_name": "Python 3",
      "language": "python",
      "name": "python3"
    },
    "language_info": {
      "codemirror_mode": {
        "name": "ipython",
        "version": 3
      },
      "file_extension": ".py",
      "mimetype": "text/x-python",
      "name": "python",
      "nbconvert_exporter": "python",
      "pygments_lexer": "ipython3",
      "version": "3.7.3"
    },
    "colab": {
      "name": "Sofia Airbnb Analyse.ipynb",
      "provenance": []
    }
  },
  "cells": [
    {
      "cell_type": "code",
      "metadata": {
        "id": "nhrUzI8P58f1",
        "outputId": "fce0574d-636a-43c6-c3de-ebca1a450695",
        "colab": {
          "base_uri": "https://localhost:8080/"
        }
      },
      "source": [
        "!git clone https://github.com/So-AI-love/Peper-Analysis\n",
        "%cd Peper-Analysis\n"
      ],
      "execution_count": 1,
      "outputs": [
        {
          "output_type": "stream",
          "name": "stdout",
          "text": [
            "Cloning into 'Peper-Analysis'...\n",
            "remote: Enumerating objects: 743, done.\u001b[K\n",
            "remote: Total 743 (delta 0), reused 0 (delta 0), pack-reused 743\u001b[K\n",
            "Receiving objects: 100% (743/743), 70.81 MiB | 22.58 MiB/s, done.\n",
            "Resolving deltas: 100% (406/406), done.\n",
            "/content/Peper-Analysis\n"
          ]
        }
      ]
    },
    {
      "cell_type": "code",
      "metadata": {
        "id": "I1sVoTq76VQi",
        "outputId": "065271ed-00c5-402a-990e-cb0d872890ac",
        "colab": {
          "base_uri": "https://localhost:8080/"
        }
      },
      "source": [
        "! pip install nlp"
      ],
      "execution_count": 3,
      "outputs": [
        {
          "output_type": "stream",
          "name": "stdout",
          "text": [
            "Collecting nlp\n",
            "  Downloading nlp-0.4.0-py3-none-any.whl (1.7 MB)\n",
            "\u001b[K     |████████████████████████████████| 1.7 MB 7.7 MB/s \n",
            "\u001b[?25hRequirement already satisfied: tqdm>=4.27 in /usr/local/lib/python3.7/dist-packages (from nlp) (4.62.3)\n",
            "Requirement already satisfied: pyarrow>=0.16.0 in /usr/local/lib/python3.7/dist-packages (from nlp) (3.0.0)\n",
            "Requirement already satisfied: dill in /usr/local/lib/python3.7/dist-packages (from nlp) (0.3.4)\n",
            "Collecting xxhash\n",
            "  Downloading xxhash-2.0.2-cp37-cp37m-manylinux2010_x86_64.whl (243 kB)\n",
            "\u001b[K     |████████████████████████████████| 243 kB 69.2 MB/s \n",
            "\u001b[?25hRequirement already satisfied: requests>=2.19.0 in /usr/local/lib/python3.7/dist-packages (from nlp) (2.23.0)\n",
            "Requirement already satisfied: numpy in /usr/local/lib/python3.7/dist-packages (from nlp) (1.19.5)\n",
            "Requirement already satisfied: filelock in /usr/local/lib/python3.7/dist-packages (from nlp) (3.3.0)\n",
            "Requirement already satisfied: pandas in /usr/local/lib/python3.7/dist-packages (from nlp) (1.1.5)\n",
            "Requirement already satisfied: urllib3!=1.25.0,!=1.25.1,<1.26,>=1.21.1 in /usr/local/lib/python3.7/dist-packages (from requests>=2.19.0->nlp) (1.24.3)\n",
            "Requirement already satisfied: idna<3,>=2.5 in /usr/local/lib/python3.7/dist-packages (from requests>=2.19.0->nlp) (2.10)\n",
            "Requirement already satisfied: chardet<4,>=3.0.2 in /usr/local/lib/python3.7/dist-packages (from requests>=2.19.0->nlp) (3.0.4)\n",
            "Requirement already satisfied: certifi>=2017.4.17 in /usr/local/lib/python3.7/dist-packages (from requests>=2.19.0->nlp) (2021.5.30)\n",
            "Requirement already satisfied: python-dateutil>=2.7.3 in /usr/local/lib/python3.7/dist-packages (from pandas->nlp) (2.8.2)\n",
            "Requirement already satisfied: pytz>=2017.2 in /usr/local/lib/python3.7/dist-packages (from pandas->nlp) (2018.9)\n",
            "Requirement already satisfied: six>=1.5 in /usr/local/lib/python3.7/dist-packages (from python-dateutil>=2.7.3->pandas->nlp) (1.15.0)\n",
            "Installing collected packages: xxhash, nlp\n",
            "Successfully installed nlp-0.4.0 xxhash-2.0.2\n"
          ]
        }
      ]
    },
    {
      "cell_type": "code",
      "metadata": {
        "id": "tWvRA1GX63eC"
      },
      "source": [
        "!export PYTHONPATH=$PYTHONPATH:/content/Peper-Analysis/data-analysis/nlp"
      ],
      "execution_count": null,
      "outputs": []
    },
    {
      "cell_type": "code",
      "metadata": {
        "id": "MX90axiz5wzg"
      },
      "source": [
        "import json\n",
        "import numpy as np\n",
        "import pandas as pd\n",
        "import sys\n",
        "sys.path.insert(0,'/content/Peper-Analysis/data-analysis/nlp/topic_modelling.py')\n",
        "\n",
        "import os\n",
        "path = '/content/Peper-Analysis/data-analysis/nlp/sentiment.py'\n",
        "os.environ['PATH'] += ':'+path\n",
        "\n",
        "\n",
        "from sentiment import get_sentiment\n",
        "from sklearn.feature_extraction.text import TfidfVectorizer\n",
        "from topic_modelling import TopicModelling\n",
        "\n",
        "from preprocessing import clean\n",
        "\n",
        "from nltk.corpus import stopwords\n",
        "stop_words_en = stopwords.words(\"english\")\n",
        "\n",
        "import seaborn as sns\n",
        "%matplotlib inline\n"
      ],
      "execution_count": 15,
      "outputs": []
    },
    {
      "cell_type": "markdown",
      "metadata": {
        "id": "_crEur0g5wzk"
      },
      "source": [
        "# Load the Dataset"
      ]
    },
    {
      "cell_type": "code",
      "metadata": {
        "id": "yKrmFedG5wzm",
        "outputId": "7b5cc8b7-e826-4327-c238-2e02b4f844b7",
        "colab": {
          "base_uri": "https://localhost:8080/"
        }
      },
      "source": [
        "%cd /content/Peper-Analysis\n",
        "sofia_airbnb = pd.read_csv(\"./data/sofia_airbnb_reviews.csv\")"
      ],
      "execution_count": 20,
      "outputs": [
        {
          "output_type": "stream",
          "name": "stdout",
          "text": [
            "/content/Peper-Analysis\n"
          ]
        }
      ]
    },
    {
      "cell_type": "code",
      "metadata": {
        "id": "jHmbnCG95wzo",
        "outputId": "a337a11d-0065-480d-bcca-c5261617fe2c",
        "colab": {
          "base_uri": "https://localhost:8080/"
        }
      },
      "source": [
        "sofia_airbnb.info()"
      ],
      "execution_count": 21,
      "outputs": [
        {
          "output_type": "stream",
          "name": "stdout",
          "text": [
            "<class 'pandas.core.frame.DataFrame'>\n",
            "RangeIndex: 306 entries, 0 to 305\n",
            "Data columns (total 5 columns):\n",
            " #   Column          Non-Null Count  Dtype  \n",
            "---  ------          --------------  -----  \n",
            " 0   lat             306 non-null    float64\n",
            " 1   long            306 non-null    float64\n",
            " 2   reviews         306 non-null    object \n",
            " 3   sentiments      306 non-null    object \n",
            " 4   mean_sentiment  306 non-null    float64\n",
            "dtypes: float64(3), object(2)\n",
            "memory usage: 12.1+ KB\n"
          ]
        }
      ]
    },
    {
      "cell_type": "markdown",
      "metadata": {
        "id": "2cU-dNXh5wzp"
      },
      "source": [
        "***"
      ]
    },
    {
      "cell_type": "markdown",
      "metadata": {
        "id": "i4V2FsXz5wzq"
      },
      "source": [
        "# Quick stats"
      ]
    },
    {
      "cell_type": "code",
      "metadata": {
        "id": "gggMpOI45wzr",
        "outputId": "eedf9c53-aa12-4e76-ec52-6de6d4e77de3",
        "colab": {
          "base_uri": "https://localhost:8080/",
          "height": 371
        }
      },
      "source": [
        "sofia_airbnb.head()"
      ],
      "execution_count": 22,
      "outputs": [
        {
          "output_type": "execute_result",
          "data": {
            "text/html": [
              "<div>\n",
              "<style scoped>\n",
              "    .dataframe tbody tr th:only-of-type {\n",
              "        vertical-align: middle;\n",
              "    }\n",
              "\n",
              "    .dataframe tbody tr th {\n",
              "        vertical-align: top;\n",
              "    }\n",
              "\n",
              "    .dataframe thead th {\n",
              "        text-align: right;\n",
              "    }\n",
              "</style>\n",
              "<table border=\"1\" class=\"dataframe\">\n",
              "  <thead>\n",
              "    <tr style=\"text-align: right;\">\n",
              "      <th></th>\n",
              "      <th>lat</th>\n",
              "      <th>long</th>\n",
              "      <th>reviews</th>\n",
              "      <th>sentiments</th>\n",
              "      <th>mean_sentiment</th>\n",
              "    </tr>\n",
              "  </thead>\n",
              "  <tbody>\n",
              "    <tr>\n",
              "      <th>0</th>\n",
              "      <td>42.697323</td>\n",
              "      <td>23.318125</td>\n",
              "      <td>[\"Great apartment with the perfect location if...</td>\n",
              "      <td>[0.45583333333333337, 0.2804761904761905, 0.40...</td>\n",
              "      <td>0.454853</td>\n",
              "    </tr>\n",
              "    <tr>\n",
              "      <th>1</th>\n",
              "      <td>42.690397</td>\n",
              "      <td>23.327108</td>\n",
              "      <td>[\"This apartment is absolutely AMAZING! Everyt...</td>\n",
              "      <td>[0.6023809523809524, 1.0, 0.625, 0.8, 0.399999...</td>\n",
              "      <td>0.411689</td>\n",
              "    </tr>\n",
              "    <tr>\n",
              "      <th>2</th>\n",
              "      <td>42.692549</td>\n",
              "      <td>23.307022</td>\n",
              "      <td>[\"The place is really stylish and cozy. Hosts ...</td>\n",
              "      <td>[0.29444444444444445, 0.263, 0.339259259259259...</td>\n",
              "      <td>0.161913</td>\n",
              "    </tr>\n",
              "    <tr>\n",
              "      <th>3</th>\n",
              "      <td>42.690125</td>\n",
              "      <td>23.322050</td>\n",
              "      <td>[\"We stayed for two nights and everything was ...</td>\n",
              "      <td>[0.2898148148148148, 0.5707407407407408, 0.397...</td>\n",
              "      <td>0.336324</td>\n",
              "    </tr>\n",
              "    <tr>\n",
              "      <th>4</th>\n",
              "      <td>42.692787</td>\n",
              "      <td>23.330109</td>\n",
              "      <td>[\"One of the best locations in Sofia!\", \"Centr...</td>\n",
              "      <td>[1.0, 0.3333333333333333, 0.5028571428571429, ...</td>\n",
              "      <td>0.341235</td>\n",
              "    </tr>\n",
              "  </tbody>\n",
              "</table>\n",
              "</div>"
            ],
            "text/plain": [
              "         lat  ...  mean_sentiment\n",
              "0  42.697323  ...        0.454853\n",
              "1  42.690397  ...        0.411689\n",
              "2  42.692549  ...        0.161913\n",
              "3  42.690125  ...        0.336324\n",
              "4  42.692787  ...        0.341235\n",
              "\n",
              "[5 rows x 5 columns]"
            ]
          },
          "metadata": {},
          "execution_count": 22
        }
      ]
    },
    {
      "cell_type": "code",
      "metadata": {
        "id": "t4wbrVYp5wzs",
        "outputId": "f8c326d0-e700-4420-ad55-1ce7985fe8aa",
        "colab": {
          "base_uri": "https://localhost:8080/",
          "height": 295
        }
      },
      "source": [
        "sofia_airbnb.describe()"
      ],
      "execution_count": 23,
      "outputs": [
        {
          "output_type": "execute_result",
          "data": {
            "text/html": [
              "<div>\n",
              "<style scoped>\n",
              "    .dataframe tbody tr th:only-of-type {\n",
              "        vertical-align: middle;\n",
              "    }\n",
              "\n",
              "    .dataframe tbody tr th {\n",
              "        vertical-align: top;\n",
              "    }\n",
              "\n",
              "    .dataframe thead th {\n",
              "        text-align: right;\n",
              "    }\n",
              "</style>\n",
              "<table border=\"1\" class=\"dataframe\">\n",
              "  <thead>\n",
              "    <tr style=\"text-align: right;\">\n",
              "      <th></th>\n",
              "      <th>lat</th>\n",
              "      <th>long</th>\n",
              "      <th>mean_sentiment</th>\n",
              "    </tr>\n",
              "  </thead>\n",
              "  <tbody>\n",
              "    <tr>\n",
              "      <th>count</th>\n",
              "      <td>306.000000</td>\n",
              "      <td>306.000000</td>\n",
              "      <td>306.000000</td>\n",
              "    </tr>\n",
              "    <tr>\n",
              "      <th>mean</th>\n",
              "      <td>42.692683</td>\n",
              "      <td>23.323903</td>\n",
              "      <td>0.372832</td>\n",
              "    </tr>\n",
              "    <tr>\n",
              "      <th>std</th>\n",
              "      <td>0.010008</td>\n",
              "      <td>0.015763</td>\n",
              "      <td>0.054759</td>\n",
              "    </tr>\n",
              "    <tr>\n",
              "      <th>min</th>\n",
              "      <td>42.647482</td>\n",
              "      <td>23.253589</td>\n",
              "      <td>0.138154</td>\n",
              "    </tr>\n",
              "    <tr>\n",
              "      <th>25%</th>\n",
              "      <td>42.689313</td>\n",
              "      <td>23.317093</td>\n",
              "      <td>0.341861</td>\n",
              "    </tr>\n",
              "    <tr>\n",
              "      <th>50%</th>\n",
              "      <td>42.693428</td>\n",
              "      <td>23.322385</td>\n",
              "      <td>0.373597</td>\n",
              "    </tr>\n",
              "    <tr>\n",
              "      <th>75%</th>\n",
              "      <td>42.699408</td>\n",
              "      <td>23.330179</td>\n",
              "      <td>0.403898</td>\n",
              "    </tr>\n",
              "    <tr>\n",
              "      <th>max</th>\n",
              "      <td>42.711740</td>\n",
              "      <td>23.380464</td>\n",
              "      <td>0.601389</td>\n",
              "    </tr>\n",
              "  </tbody>\n",
              "</table>\n",
              "</div>"
            ],
            "text/plain": [
              "              lat        long  mean_sentiment\n",
              "count  306.000000  306.000000      306.000000\n",
              "mean    42.692683   23.323903        0.372832\n",
              "std      0.010008    0.015763        0.054759\n",
              "min     42.647482   23.253589        0.138154\n",
              "25%     42.689313   23.317093        0.341861\n",
              "50%     42.693428   23.322385        0.373597\n",
              "75%     42.699408   23.330179        0.403898\n",
              "max     42.711740   23.380464        0.601389"
            ]
          },
          "metadata": {},
          "execution_count": 23
        }
      ]
    },
    {
      "cell_type": "markdown",
      "metadata": {
        "id": "E7FeTYJ55wzs"
      },
      "source": [
        "***"
      ]
    },
    {
      "cell_type": "markdown",
      "metadata": {
        "id": "bSY4MrQ55wzt"
      },
      "source": [
        "# Exploring the reviews"
      ]
    },
    {
      "cell_type": "markdown",
      "metadata": {
        "id": "EYCQf9A25wzu"
      },
      "source": [
        "## Remove NaN and redundant reviews"
      ]
    },
    {
      "cell_type": "code",
      "metadata": {
        "id": "tFH96trq5wzu"
      },
      "source": [
        "sofia_airbnb.dropna(inplace=True)\n",
        "sofia_airbnb.reset_index(inplace=True)\n",
        "sofia_airbnb.drop(\"index\", axis=1, inplace=True)"
      ],
      "execution_count": 24,
      "outputs": []
    },
    {
      "cell_type": "code",
      "metadata": {
        "id": "SL3q_KzZ5wzu"
      },
      "source": [
        "for i in range(sofia_airbnb.shape[0]):\n",
        "    try:\n",
        "        json.loads(sofia_airbnb[\"reviews\"][i])\n",
        "    except json.JSONDecodeError:\n",
        "        sofia_airbnb.drop(i, axis=0, inplace=True)"
      ],
      "execution_count": 25,
      "outputs": []
    },
    {
      "cell_type": "markdown",
      "metadata": {
        "id": "ThOwX0vl5wzv"
      },
      "source": [
        "## Sentiment Analysis"
      ]
    },
    {
      "cell_type": "markdown",
      "metadata": {
        "id": "adZOWdfr5wzv"
      },
      "source": [
        "### Quaintitative"
      ]
    },
    {
      "cell_type": "code",
      "metadata": {
        "id": "IPjrsPeb5wzv"
      },
      "source": [
        "sentiments = []\n",
        "mean_sentiment = []\n",
        "\n",
        "for index, loc in sofia_airbnb.iterrows():\n",
        "    scores = []\n",
        "    for review in json.loads(loc[\"reviews\"]):\n",
        "        scores.append(get_sentiment(review))     \n",
        "        \n",
        "    sentiments.append(scores)\n",
        "    mean_sentiment.append(np.mean(scores))\n",
        "    \n",
        "sofia_airbnb[\"sentiments\"] = sentiments\n",
        "sofia_airbnb[\"mean_sentiment\"] = mean_sentiment"
      ],
      "execution_count": null,
      "outputs": []
    },
    {
      "cell_type": "code",
      "metadata": {
        "id": "5ce5fBW75wzv"
      },
      "source": [
        "sns.distplot(sofia_airbnb[\"mean_sentiment\"], kde=False);"
      ],
      "execution_count": null,
      "outputs": []
    },
    {
      "cell_type": "markdown",
      "metadata": {
        "id": "D64diDgl5wzw"
      },
      "source": [
        "### Save the `mean_sentiment`s to `JSON`"
      ]
    },
    {
      "cell_type": "code",
      "metadata": {
        "id": "5OcP5kbl5wzw"
      },
      "source": [
        "jsonArray = ''\n",
        "for index, row in sofia_airbnb.iterrows():\n",
        "    x = {\n",
        "       \"lat\": row[\"lat\"],\n",
        "       \"long\": row[\"long\"],\n",
        "       \"mean_sentiment\": row[\"mean_sentiment\"]\n",
        "    }\n",
        "    jsonArray += json.dumps(x)+','"
      ],
      "execution_count": null,
      "outputs": []
    },
    {
      "cell_type": "markdown",
      "metadata": {
        "id": "U7fFesSL5wzw"
      },
      "source": [
        "## Topic Modelling"
      ]
    },
    {
      "cell_type": "code",
      "metadata": {
        "id": "sOB3va3i5wzx"
      },
      "source": [
        "topics = []\n",
        "\n",
        "for index, loc in sofia_airbnb.iterrows():\n",
        "    current_loc_topics = []\n",
        "    for review in json.loads(loc[\"reviews\"]):\n",
        "        try:\n",
        "            current_loc_topics.append(' '.join(TopicModelling(review).get_topics()[0]))\n",
        "        except ValueError:\n",
        "            pass\n",
        "        \n",
        "    topics.append(current_loc_topics)\n",
        "        \n",
        "sofia_airbnb[\"topics\"] = topics"
      ],
      "execution_count": null,
      "outputs": []
    },
    {
      "cell_type": "markdown",
      "metadata": {
        "id": "ewd9Quyy5wzx"
      },
      "source": [
        "## Term-Frequency x Inverse-Doc-Freq"
      ]
    },
    {
      "cell_type": "code",
      "metadata": {
        "id": "SBc0UUCT5wzx"
      },
      "source": [
        "for index, loc in sofia_airbnb.iterrows():\n",
        "    tf_idf = TfidfVectorizer(use_idf=True, stop_words=stop_words_en)\n",
        "    X = tf_idf.fit_transform(json.loads(loc[\"reviews\"]))\n",
        "    \n",
        "    tfs = np.mean(X.todense(), axis=0) * .1\n",
        "    scores = np.multiply(tfs, tf_idf.idf_.reshape(tfs.shape))\n",
        "    \n",
        "    terms = np.array(tf_idf.get_feature_names()).reshape(tfs.shape)\n",
        "    zipped = np.hstack((terms.T, scores.T)).tolist()\n",
        "    print(np.array(sorted(zipped, key=lambda x: x[1], reverse=True)))\n",
        "    \n",
        "    print('='*100)\n",
        "    print('='*100)"
      ],
      "execution_count": null,
      "outputs": []
    },
    {
      "cell_type": "code",
      "metadata": {
        "id": "WPNfc4me5wzy"
      },
      "source": [
        ""
      ],
      "execution_count": null,
      "outputs": []
    }
  ]
}