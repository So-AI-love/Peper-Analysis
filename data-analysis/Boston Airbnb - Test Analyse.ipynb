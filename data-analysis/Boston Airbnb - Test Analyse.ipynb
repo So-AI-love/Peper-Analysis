{
 "cells": [
  {
   "cell_type": "code",
   "execution_count": 1,
   "metadata": {},
   "outputs": [],
   "source": [
    "import numpy as np\n",
    "import pandas as pd\n",
    "\n",
    "from textblob import TextBlob\n",
    "\n",
    "import seaborn as sns\n",
    "%matplotlib inline\n",
    "\n",
    "\n",
    "from nlp.cat_tags import get_cat_tags"
   ]
  },
  {
   "cell_type": "code",
   "execution_count": 2,
   "metadata": {},
   "outputs": [],
   "source": [
    "DIR = \"../data/boston-airbnb-open-data/\""
   ]
  },
  {
   "cell_type": "markdown",
   "metadata": {},
   "source": [
    "# Loading the datasets"
   ]
  },
  {
   "cell_type": "code",
   "execution_count": 3,
   "metadata": {},
   "outputs": [],
   "source": [
    "# Availability calendar\n",
    "calendar = pd.read_csv(DIR+\"calendar.csv\")\n",
    "\n",
    "# Listings\n",
    "listings = pd.read_csv(DIR+\"listings.csv\")\n",
    "\n",
    "# Guests' reviews\n",
    "reviews = pd.read_csv(DIR+\"reviews.csv\")"
   ]
  },
  {
   "cell_type": "markdown",
   "metadata": {},
   "source": [
    "***"
   ]
  },
  {
   "cell_type": "markdown",
   "metadata": {},
   "source": [
    "# Exploring the reviews"
   ]
  },
  {
   "cell_type": "markdown",
   "metadata": {},
   "source": [
    "## Remove NaN"
   ]
  },
  {
   "cell_type": "code",
   "execution_count": 4,
   "metadata": {},
   "outputs": [],
   "source": [
    "reviews.dropna(inplace=True)\n",
    "reviews.reset_index(inplace=True)"
   ]
  },
  {
   "cell_type": "markdown",
   "metadata": {},
   "source": [
    "## Sentiment analyzes"
   ]
  },
  {
   "cell_type": "markdown",
   "metadata": {},
   "source": [
    "### Quaintitative"
   ]
  },
  {
   "cell_type": "code",
   "execution_count": 5,
   "metadata": {},
   "outputs": [],
   "source": [
    "sentiments = []\n",
    "\n",
    "for i in range(reviews.shape[0]):\n",
    "    score = TextBlob(reviews[\"comments\"][i]).sentiment.polarity\n",
    "    sentiments.append(score)       \n",
    "    \n",
    "reviews[\"sentiment\"] = sentiments"
   ]
  },
  {
   "cell_type": "code",
   "execution_count": 6,
   "metadata": {
    "scrolled": true
   },
   "outputs": [
    {
     "name": "stderr",
     "output_type": "stream",
     "text": [
      "/Users/victor/.local/share/virtualenvs/Peper-Analysis-eBzTI8A5/lib/python3.7/site-packages/scipy/stats/stats.py:1713: FutureWarning: Using a non-tuple sequence for multidimensional indexing is deprecated; use `arr[tuple(seq)]` instead of `arr[seq]`. In the future this will be interpreted as an array index, `arr[np.array(seq)]`, which will result either in an error or a different result.\n",
      "  return np.add.reduce(sorted[indexer] * weights, axis=axis) / sumval\n"
     ]
    },
    {
     "data": {
      "image/png": "[encoded data removed]",
      "text/plain": [
       "<Figure size 432x288 with 1 Axes>"
      ]
     },
     "metadata": {
      "needs_background": "light"
     },
     "output_type": "display_data"
    }
   ],
   "source": [
    "sns.distplot(reviews[\"sentiment\"], kde=False);"
   ]
  },
  {
   "cell_type": "markdown",
   "metadata": {},
   "source": [
    "### Qualitative"
   ]
  },
  {
   "cell_type": "code",
   "execution_count": 7,
   "metadata": {},
   "outputs": [],
   "source": [
    "sentiment_cat = []\n",
    "for sent in sentiments:\n",
    "    if -.25 < sent < .25:\n",
    "        sentiment_cat.append(0)\n",
    "    elif sent <= -.25:\n",
    "        sentiment_cat.append(-1)\n",
    "    else:\n",
    "        sentiment_cat.append(1)\n",
    "        \n",
    "reviews[\"sentiment_cat\"] = sentiment_cat"
   ]
  },
  {
   "cell_type": "code",
   "execution_count": 8,
   "metadata": {},
   "outputs": [
    {
     "data": {
      "image/png": "[encoded data removed]",
      "text/plain": [
       "<Figure size 432x288 with 1 Axes>"
      ]
     },
     "metadata": {
      "needs_background": "light"
     },
     "output_type": "display_data"
    }
   ],
   "source": [
    "sns.countplot(reviews[\"sentiment_cat\"]);"
   ]
  },
  {
   "cell_type": "markdown",
   "metadata": {},
   "source": [
    "## Extracting Categorical Tags"
   ]
  },
  {
   "cell_type": "code",
   "execution_count": 11,
   "metadata": {},
   "outputs": [
    {
     "data": {
      "text/plain": [
       "\"Our stay at Islam's was very enjoyable, Islam is a very kind and responsive host.\\r\\nThe room was clean and comfortable and the house is provided with all comforts: full kitchen, satellite TV, comfortable living room, excellent WIFI connection in all areas.\\r\\nIt is extremely conveniently located to downtown Boston (a few metro stops) and walking distance to the free shuttles connecting to the airport. \""
      ]
     },
     "execution_count": 11,
     "metadata": {},
     "output_type": "execute_result"
    }
   ],
   "source": [
    "reviews[\"comments\"][10]"
   ]
  },
  {
   "cell_type": "code",
   "execution_count": 12,
   "metadata": {
    "scrolled": false
   },
   "outputs": [
    {
     "name": "stdout",
     "output_type": "stream",
     "text": [
      "\n",
      "----------------------------------------------------------------------------------------------------\n",
      "\tRunning `get_cat_tags`...\n",
      "----------------------------------------------------------------------------------------------------\n",
      "Part of Speech Tags: [('Our', 'PRP$'), ('stay', 'NN'), ('at', 'IN'), ('Islam', 'NNP'), (\"'s\", 'POS'), ('was', 'VBD'), ('very', 'RB'), ('enjoyable', 'JJ'), (',', ','), ('Islam', 'NNP'), ('is', 'VBZ'), ('a', 'DT'), ('very', 'RB'), ('kind', 'NN'), ('and', 'CC'), ('responsive', 'JJ'), ('host', 'NN'), ('.', '.'), ('The', 'DT'), ('room', 'NN'), ('was', 'VBD'), ('clean', 'JJ'), ('and', 'CC'), ('comfortable', 'JJ'), ('and', 'CC'), ('the', 'DT'), ('house', 'NN'), ('is', 'VBZ'), ('provided', 'VBN'), ('with', 'IN'), ('all', 'DT'), ('comforts', 'NNS'), (':', ':'), ('full', 'JJ'), ('kitchen', 'NN'), (',', ','), ('satellite', 'JJ'), ('TV', 'NN'), (',', ','), ('comfortable', 'JJ'), ('living', 'NN'), ('room', 'NN'), (',', ','), ('excellent', 'JJ'), ('WIFI', 'NNP'), ('connection', 'NN'), ('in', 'IN'), ('all', 'DT'), ('areas', 'NNS'), ('.', '.'), ('It', 'PRP'), ('is', 'VBZ'), ('extremely', 'RB'), ('conveniently', 'RB'), ('located', 'VBN'), ('to', 'TO'), ('downtown', 'VB'), ('Boston', 'NNP'), ('(', '('), ('a', 'DT'), ('few', 'JJ'), ('metro', 'NN'), ('stops', 'NNS'), (')', ')'), ('and', 'CC'), ('walking', 'VBG'), ('distance', 'NN'), ('to', 'TO'), ('the', 'DT'), ('free', 'JJ'), ('shuttles', 'NNS'), ('connecting', 'VBG'), ('to', 'TO'), ('the', 'DT'), ('airport', 'NN'), ('.', '.')] \n",
      "\n",
      "Matched Categorical Tags: (S\n",
      "  Our/PRP$\n",
      "  stay/NN\n",
      "  at/IN\n",
      "  Islam/NNP\n",
      "  's/POS\n",
      "  (CTAG was/VBD very/RB enjoyable/JJ)\n",
      "  ,/,\n",
      "  Islam/NNP\n",
      "  is/VBZ\n",
      "  a/DT\n",
      "  very/RB\n",
      "  kind/NN\n",
      "  and/CC\n",
      "  responsive/JJ\n",
      "  host/NN\n",
      "  ./.\n",
      "  The/DT\n",
      "  (CTAG room/NN was/VBD clean/JJ and/CC comfortable/JJ)\n",
      "  and/CC\n",
      "  the/DT\n",
      "  house/NN\n",
      "  is/VBZ\n",
      "  provided/VBN\n",
      "  with/IN\n",
      "  all/DT\n",
      "  comforts/NNS\n",
      "  :/:\n",
      "  full/JJ\n",
      "  kitchen/NN\n",
      "  ,/,\n",
      "  satellite/JJ\n",
      "  TV/NN\n",
      "  ,/,\n",
      "  comfortable/JJ\n",
      "  living/NN\n",
      "  room/NN\n",
      "  ,/,\n",
      "  excellent/JJ\n",
      "  WIFI/NNP\n",
      "  connection/NN\n",
      "  in/IN\n",
      "  all/DT\n",
      "  areas/NNS\n",
      "  ./.\n",
      "  It/PRP\n",
      "  is/VBZ\n",
      "  extremely/RB\n",
      "  conveniently/RB\n",
      "  located/VBN\n",
      "  to/TO\n",
      "  downtown/VB\n",
      "  Boston/NNP\n",
      "  (/(\n",
      "  a/DT\n",
      "  few/JJ\n",
      "  metro/NN\n",
      "  stops/NNS\n",
      "  )/)\n",
      "  and/CC\n",
      "  walking/VBG\n",
      "  distance/NN\n",
      "  to/TO\n",
      "  the/DT\n",
      "  free/JJ\n",
      "  shuttles/NNS\n",
      "  connecting/VBG\n",
      "  to/TO\n",
      "  the/DT\n",
      "  airport/NN\n",
      "  ./.)\n"
     ]
    },
    {
     "data": {
      "text/plain": [
       "['was very enjoyable', 'room was clean and comfortable']"
      ]
     },
     "execution_count": 12,
     "metadata": {},
     "output_type": "execute_result"
    }
   ],
   "source": [
    "get_cat_tags(reviews[\"comments\"][10], verbose=True)"
   ]
  },
  {
   "cell_type": "code",
   "execution_count": null,
   "metadata": {},
   "outputs": [],
   "source": []
  },
  {
   "cell_type": "code",
   "execution_count": null,
   "metadata": {},
   "outputs": [],
   "source": []
  }
 ],
 "metadata": {
  "kernelspec": {
   "display_name": "Python 3",
   "language": "python",
   "name": "python3"
  },
  "language_info": {
   "codemirror_mode": {
    "name": "ipython",
    "version": 3
   },
   "file_extension": ".py",
   "mimetype": "text/x-python",
   "name": "python",
   "nbconvert_exporter": "python",
   "pygments_lexer": "ipython3",
   "version": "3.7.1"
  }
 },
 "nbformat": 4,
 "nbformat_minor": 2
}
