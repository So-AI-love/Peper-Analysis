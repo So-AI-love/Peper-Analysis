{
 "cells": [
  {
   "cell_type": "code",
   "execution_count": 1,
   "metadata": {},
   "outputs": [],
   "source": [
    "import json\n",
    "import numpy as np\n",
    "import pandas as pd\n",
    "\n",
    "from nlp.sentiment import get_sentiment\n",
    "from sklearn.feature_extraction.text import TfidfVectorizer\n",
    "from nlp.topic_modelling import TopicModelling\n",
    "\n",
    "from nlp.preprocessing import clean\n",
    "\n",
    "import seaborn as sns\n",
    "%matplotlib inline\n"
   ]
  },
  {
   "cell_type": "markdown",
   "metadata": {},
   "source": [
    "# Load the Dataset"
   ]
  },
  {
   "cell_type": "code",
   "execution_count": 2,
   "metadata": {},
   "outputs": [],
   "source": [
    "sofia_airbnb = pd.read_csv(\"../data/sofia_airbnb_reviews.csv\")"
   ]
  },
  {
   "cell_type": "code",
   "execution_count": 3,
   "metadata": {},
   "outputs": [
    {
     "name": "stdout",
     "output_type": "stream",
     "text": [
      "<class 'pandas.core.frame.DataFrame'>\n",
      "RangeIndex: 306 entries, 0 to 305\n",
      "Data columns (total 5 columns):\n",
      "lat               306 non-null float64\n",
      "long              306 non-null float64\n",
      "reviews           306 non-null object\n",
      "sentiments        306 non-null object\n",
      "mean_sentiment    306 non-null float64\n",
      "dtypes: float64(3), object(2)\n",
      "memory usage: 12.0+ KB\n"
     ]
    }
   ],
   "source": [
    "sofia_airbnb.info()"
   ]
  },
  {
   "cell_type": "markdown",
   "metadata": {},
   "source": [
    "***"
   ]
  },
  {
   "cell_type": "markdown",
   "metadata": {},
   "source": [
    "# Quick stats"
   ]
  },
  {
   "cell_type": "code",
   "execution_count": 4,
   "metadata": {},
   "outputs": [
    {
     "data": {
      "text/html": [
       "<div>\n",
       "<style scoped>\n",
       "    .dataframe tbody tr th:only-of-type {\n",
       "        vertical-align: middle;\n",
       "    }\n",
       "\n",
       "    .dataframe tbody tr th {\n",
       "        vertical-align: top;\n",
       "    }\n",
       "\n",
       "    .dataframe thead th {\n",
       "        text-align: right;\n",
       "    }\n",
       "</style>\n",
       "<table border=\"1\" class=\"dataframe\">\n",
       "  <thead>\n",
       "    <tr style=\"text-align: right;\">\n",
       "      <th></th>\n",
       "      <th>lat</th>\n",
       "      <th>long</th>\n",
       "      <th>reviews</th>\n",
       "      <th>sentiments</th>\n",
       "      <th>mean_sentiment</th>\n",
       "    </tr>\n",
       "  </thead>\n",
       "  <tbody>\n",
       "    <tr>\n",
       "      <th>0</th>\n",
       "      <td>42.697323</td>\n",
       "      <td>23.318125</td>\n",
       "      <td>[\"Great apartment with the perfect location if...</td>\n",
       "      <td>[0.45583333333333337, 0.2804761904761905, 0.40...</td>\n",
       "      <td>0.454853</td>\n",
       "    </tr>\n",
       "    <tr>\n",
       "      <th>1</th>\n",
       "      <td>42.690397</td>\n",
       "      <td>23.327108</td>\n",
       "      <td>[\"This apartment is absolutely AMAZING! Everyt...</td>\n",
       "      <td>[0.6023809523809524, 1.0, 0.625, 0.8, 0.399999...</td>\n",
       "      <td>0.411689</td>\n",
       "    </tr>\n",
       "    <tr>\n",
       "      <th>2</th>\n",
       "      <td>42.692549</td>\n",
       "      <td>23.307022</td>\n",
       "      <td>[\"The place is really stylish and cozy. Hosts ...</td>\n",
       "      <td>[0.29444444444444445, 0.263, 0.339259259259259...</td>\n",
       "      <td>0.161913</td>\n",
       "    </tr>\n",
       "    <tr>\n",
       "      <th>3</th>\n",
       "      <td>42.690125</td>\n",
       "      <td>23.322050</td>\n",
       "      <td>[\"We stayed for two nights and everything was ...</td>\n",
       "      <td>[0.2898148148148148, 0.5707407407407408, 0.397...</td>\n",
       "      <td>0.336324</td>\n",
       "    </tr>\n",
       "    <tr>\n",
       "      <th>4</th>\n",
       "      <td>42.692787</td>\n",
       "      <td>23.330109</td>\n",
       "      <td>[\"One of the best locations in Sofia!\", \"Centr...</td>\n",
       "      <td>[1.0, 0.3333333333333333, 0.5028571428571429, ...</td>\n",
       "      <td>0.341235</td>\n",
       "    </tr>\n",
       "  </tbody>\n",
       "</table>\n",
       "</div>"
      ],
      "text/plain": [
       "         lat       long                                            reviews  \\\n",
       "0  42.697323  23.318125  [\"Great apartment with the perfect location if...   \n",
       "1  42.690397  23.327108  [\"This apartment is absolutely AMAZING! Everyt...   \n",
       "2  42.692549  23.307022  [\"The place is really stylish and cozy. Hosts ...   \n",
       "3  42.690125  23.322050  [\"We stayed for two nights and everything was ...   \n",
       "4  42.692787  23.330109  [\"One of the best locations in Sofia!\", \"Centr...   \n",
       "\n",
       "                                          sentiments  mean_sentiment  \n",
       "0  [0.45583333333333337, 0.2804761904761905, 0.40...        0.454853  \n",
       "1  [0.6023809523809524, 1.0, 0.625, 0.8, 0.399999...        0.411689  \n",
       "2  [0.29444444444444445, 0.263, 0.339259259259259...        0.161913  \n",
       "3  [0.2898148148148148, 0.5707407407407408, 0.397...        0.336324  \n",
       "4  [1.0, 0.3333333333333333, 0.5028571428571429, ...        0.341235  "
      ]
     },
     "execution_count": 4,
     "metadata": {},
     "output_type": "execute_result"
    }
   ],
   "source": [
    "sofia_airbnb.head()"
   ]
  },
  {
   "cell_type": "code",
   "execution_count": 5,
   "metadata": {},
   "outputs": [
    {
     "data": {
      "text/html": [
       "<div>\n",
       "<style scoped>\n",
       "    .dataframe tbody tr th:only-of-type {\n",
       "        vertical-align: middle;\n",
       "    }\n",
       "\n",
       "    .dataframe tbody tr th {\n",
       "        vertical-align: top;\n",
       "    }\n",
       "\n",
       "    .dataframe thead th {\n",
       "        text-align: right;\n",
       "    }\n",
       "</style>\n",
       "<table border=\"1\" class=\"dataframe\">\n",
       "  <thead>\n",
       "    <tr style=\"text-align: right;\">\n",
       "      <th></th>\n",
       "      <th>lat</th>\n",
       "      <th>long</th>\n",
       "      <th>mean_sentiment</th>\n",
       "    </tr>\n",
       "  </thead>\n",
       "  <tbody>\n",
       "    <tr>\n",
       "      <th>count</th>\n",
       "      <td>306.000000</td>\n",
       "      <td>306.000000</td>\n",
       "      <td>306.000000</td>\n",
       "    </tr>\n",
       "    <tr>\n",
       "      <th>mean</th>\n",
       "      <td>42.692683</td>\n",
       "      <td>23.323903</td>\n",
       "      <td>0.372832</td>\n",
       "    </tr>\n",
       "    <tr>\n",
       "      <th>std</th>\n",
       "      <td>0.010008</td>\n",
       "      <td>0.015763</td>\n",
       "      <td>0.054759</td>\n",
       "    </tr>\n",
       "    <tr>\n",
       "      <th>min</th>\n",
       "      <td>42.647482</td>\n",
       "      <td>23.253589</td>\n",
       "      <td>0.138154</td>\n",
       "    </tr>\n",
       "    <tr>\n",
       "      <th>25%</th>\n",
       "      <td>42.689313</td>\n",
       "      <td>23.317093</td>\n",
       "      <td>0.341861</td>\n",
       "    </tr>\n",
       "    <tr>\n",
       "      <th>50%</th>\n",
       "      <td>42.693428</td>\n",
       "      <td>23.322385</td>\n",
       "      <td>0.373597</td>\n",
       "    </tr>\n",
       "    <tr>\n",
       "      <th>75%</th>\n",
       "      <td>42.699408</td>\n",
       "      <td>23.330179</td>\n",
       "      <td>0.403898</td>\n",
       "    </tr>\n",
       "    <tr>\n",
       "      <th>max</th>\n",
       "      <td>42.711740</td>\n",
       "      <td>23.380464</td>\n",
       "      <td>0.601389</td>\n",
       "    </tr>\n",
       "  </tbody>\n",
       "</table>\n",
       "</div>"
      ],
      "text/plain": [
       "              lat        long  mean_sentiment\n",
       "count  306.000000  306.000000      306.000000\n",
       "mean    42.692683   23.323903        0.372832\n",
       "std      0.010008    0.015763        0.054759\n",
       "min     42.647482   23.253589        0.138154\n",
       "25%     42.689313   23.317093        0.341861\n",
       "50%     42.693428   23.322385        0.373597\n",
       "75%     42.699408   23.330179        0.403898\n",
       "max     42.711740   23.380464        0.601389"
      ]
     },
     "execution_count": 5,
     "metadata": {},
     "output_type": "execute_result"
    }
   ],
   "source": [
    "sofia_airbnb.describe()"
   ]
  },
  {
   "cell_type": "markdown",
   "metadata": {},
   "source": [
    "***"
   ]
  },
  {
   "cell_type": "markdown",
   "metadata": {},
   "source": [
    "# Exploring the reviews"
   ]
  },
  {
   "cell_type": "markdown",
   "metadata": {},
   "source": [
    "## Remove NaN and redundant reviews"
   ]
  },
  {
   "cell_type": "code",
   "execution_count": 6,
   "metadata": {},
   "outputs": [],
   "source": [
    "sofia_airbnb.dropna(inplace=True)\n",
    "sofia_airbnb.reset_index(inplace=True)\n",
    "sofia_airbnb.drop(\"index\", axis=1, inplace=True)"
   ]
  },
  {
   "cell_type": "code",
   "execution_count": 7,
   "metadata": {},
   "outputs": [],
   "source": [
    "for i in range(sofia_airbnb.shape[0]):\n",
    "    try:\n",
    "        json.loads(sofia_airbnb[\"reviews\"][i])\n",
    "    except json.JSONDecodeError:\n",
    "        sofia_airbnb.drop(i, axis=0, inplace=True)"
   ]
  },
  {
   "cell_type": "markdown",
   "metadata": {},
   "source": [
    "## Sentiment Analysis"
   ]
  },
  {
   "cell_type": "markdown",
   "metadata": {},
   "source": [
    "### Quaintitative"
   ]
  },
  {
   "cell_type": "code",
   "execution_count": 8,
   "metadata": {},
   "outputs": [],
   "source": [
    "sentiments = []\n",
    "mean_sentiment = []\n",
    "\n",
    "for i in range(sofia_airbnb.shape[0]):\n",
    "    scores = []\n",
    "    for review in json.loads(sofia_airbnb[\"reviews\"][i]):\n",
    "        scores.append(get_sentiment(review))     \n",
    "        \n",
    "    sentiments.append(scores)\n",
    "    mean_sentiment.append(np.mean(scores))\n",
    "    \n",
    "sofia_airbnb[\"sentiments\"] = sentiments\n",
    "sofia_airbnb[\"mean_sentiment\"] = mean_sentiment"
   ]
  },
  {
   "cell_type": "code",
   "execution_count": 9,
   "metadata": {},
   "outputs": [
    {
     "name": "stderr",
     "output_type": "stream",
     "text": [
      "/Users/victor/.local/share/virtualenvs/Peper-Analysis-eBzTI8A5/lib/python3.7/site-packages/scipy/stats/stats.py:1713: FutureWarning: Using a non-tuple sequence for multidimensional indexing is deprecated; use `arr[tuple(seq)]` instead of `arr[seq]`. In the future this will be interpreted as an array index, `arr[np.array(seq)]`, which will result either in an error or a different result.\n",
      "  return np.add.reduce(sorted[indexer] * weights, axis=axis) / sumval\n"
     ]
    },
    {
     "data": {
      "image/png": "[encoded data removed]",
      "text/plain": [
       "<Figure size 432x288 with 1 Axes>"
      ]
     },
     "metadata": {
      "needs_background": "light"
     },
     "output_type": "display_data"
    }
   ],
   "source": [
    "sns.distplot(sofia_airbnb[\"mean_sentiment\"], kde=False);"
   ]
  },
  {
   "cell_type": "markdown",
   "metadata": {},
   "source": [
    "### Save the `mean_sentiment`s to `JSON`"
   ]
  },
  {
   "cell_type": "code",
   "execution_count": 10,
   "metadata": {},
   "outputs": [],
   "source": [
    "jsonArray = ''\n",
    "for index, row in sofia_airbnb.iterrows():\n",
    "    x = {\n",
    "       \"lat\": row[\"lat\"],\n",
    "       \"long\": row[\"long\"],\n",
    "       \"mean_sentiment\": row[\"mean_sentiment\"]\n",
    "    }\n",
    "    jsonArray += json.dumps(x)+','"
   ]
  },
  {
   "cell_type": "markdown",
   "metadata": {},
   "source": [
    "## Topic Modelling"
   ]
  },
  {
   "cell_type": "code",
   "execution_count": 11,
   "metadata": {},
   "outputs": [
    {
     "name": "stdout",
     "output_type": "stream",
     "text": [
      "Modelling...\n",
      "[['downtown', 'perfect', 'something'], ['need', 'clean', 'anything'], ['need', 'clean', 'anything']]\n",
      "Modelling...\n",
      "[['fantastic', 'stay', 'clean'], ['super', 'tony', 'helpful'], ['sofia', 'definitely', 'coming']]\n",
      "Modelling...\n",
      "[['close', 'flat', 'really'], ['great', 'flat', 'really'], ['great', 'flat', 'really']]\n",
      "Modelling...\n",
      "[['town', 'best', 'tony'], ['u', 'word', 'spot'], ['town', 'best', 'tony']]\n",
      "Modelling...\n",
      "[['it', 'recommend', 'share'], ['toilet', 'vitosha', 'share'], ['it', 'recommend', 'share']]\n",
      "Modelling...\n",
      "[['nearby', 'coffee', 'making'], ['distance', 'walking', 'short'], ['location', 'pastry', 'excellent']]\n",
      "Modelling...\n",
      "[['great', 'go', 'awesome'], ['great', 'tonys', 'everything'], ['great', 'hospitality', 'experience']]\n",
      "Modelling...\n",
      "[['pretty', 'room', 'nice'], ['good', 'yard', 'silent'], ['guy', 'thank', 'nice']]\n",
      "Modelling...\n",
      "[['rent', 'people', 'place'], ['rent', 'people', 'place'], ['great', 'people', 'place']]\n",
      "Modelling...\n",
      "[['close', 'everything', 'nice'], ['close', 'everything', 'nice'], ['close', 'everything', 'nice']]\n",
      "Modelling...\n",
      "[['place', 'problem', 'last'], ['place', 'problem', 'last'], ['place', 'problem', 'last']]\n",
      "Modelling...\n",
      "[['host', 'nice', 'perfect'], ['host', 'nice', 'perfect'], ['host', 'nice', 'perfect']]\n",
      "Modelling...\n",
      "[['many', 'supermarket', 'near'], ['serdika', 'sofia', 'private'], ['one', 'listing', 'exact']]\n",
      "Modelling...\n",
      "[['perfect'], ['perfect'], ['perfect']]\n",
      "Modelling...\n",
      "[['place', 'located', 'well'], ['recommended', 'highly', 'well'], ['recommended', 'highly', 'well']]\n",
      "Modelling...\n",
      "[['quiet', 'room', 'great'], ['nice', 'sofia', 'place'], ['nice', 'sofia', 'place']]\n",
      "Modelling...\n",
      "[['apartment', 'cool', 'heart'], ['apartment', 'cool', 'heart'], ['apartment', 'cool', 'heart']]\n",
      "Modelling...\n",
      "[['location', 'really', 'walking'], ['center', 'difficult', 'best'], ['thanks', 'warm', 'welcome']]\n",
      "Modelling...\n",
      "[['recommend', 'definitely', 'comfortable'], ['location', 'great', 'comfortable'], ['vera’s', 'really', 'place']]\n",
      "Modelling...\n",
      "[['super', 'adorable', 'dog'], ['great', 'we’re', 'come'], ['apartment', 'clean', 'tip']]\n",
      "Modelling...\n",
      "[['really', 'nice', 'centric'], ['really', 'nice', 'centric'], ['really', 'nice', 'centric']]\n",
      "Modelling...\n",
      "[['stay', 'center', 'tonyveras'], ['clean', 'quite', 'highly'], ['location', 'people', 'everithing']]\n",
      "Modelling...\n",
      "[['location', 'little', 'central'], ['location', 'little', 'central'], ['location', 'little', 'central']]\n",
      "Modelling...\n",
      "[['tip', 'perfect', 'beautiful'], ['place', 'would', 'recommend'], ['u', 'helped', 'vera']]\n",
      "Modelling...\n",
      "[['recommended', 'nice', 'place'], ['nice', 'location', 'place'], ['recommended', 'nice', 'place']]\n",
      "Modelling...\n",
      "[['great', 'lovely', 'stay'], ['location', 'super', 'could'], ['great', 'lovely', 'stay']]\n",
      "Modelling...\n",
      "[['welcome', 'respond', 'arrival'], ['free', 'given', 'easy'], ['location', 'really', 'spacious']]\n",
      "Modelling...\n",
      "[['welkom', 'nice', 'hospitality'], ['private', 'quite', 'comfortable'], ['entrence', 'shared', 'door']]\n",
      "Modelling...\n",
      "[['everything', 'nicely', 'space'], ['stay', 'definitely', 'again'], ['story', 'shared', 'thing']]\n",
      "Modelling...\n",
      "[['value', 'great', 'too'], ['everything', 'made', 'tonyvera'], ['value', 'great', 'too']]\n",
      "Modelling...\n",
      "[['sofia', 'good', 'day'], ['central', 'location', 'perfect'], ['seen', 'photo', 'room']]\n",
      "Modelling...\n",
      "[['place', 'well', 'wifi'], ['sofia', 'stay', 'met'], ['tony', 'great', 'veras']]\n",
      "Modelling...\n",
      "[['better', 'could', 'amazing'], ['place', 'amazing', 'host'], ['better', 'could', 'amazing']]\n",
      "Modelling...\n",
      "[['aparement', 'great', 'host'], ['aparement', 'great', 'host'], ['aparement', 'great', 'host']]\n",
      "Modelling...\n",
      "[['good', 'location', 'stay'], ['cozy', 'room', 'nice'], ['nice', 'tony', 'room']]\n",
      "Modelling...\n",
      "[['people', 'place', 'great'], ['people', 'place', 'great'], ['great', 'people', 'place']]\n",
      "Modelling...\n",
      "[['tony', 'host', 'great'], ['u', 'told', 'airport'], ['central', 'apartment', 'great']]\n",
      "Modelling...\n",
      "[['pleased'], ['pleased'], ['pleased']]\n",
      "Modelling...\n",
      "[['bar', 'distance', 'nice'], ['apartment', 'stay', 'sofia'], ['person', 'felt', 'super']]\n",
      "Modelling...\n",
      "[['back', 'definitely', 'come'], ['close', 'everything', 'metro'], ['everything', 'nice', 'owner']]\n",
      "Modelling...\n",
      "[['un', 'la', 'veux'], ['un', 'la', 'veux'], ['un', 'la', 'veux']]\n",
      "Modelling...\n",
      "[['localizaçao', 'otima', 'recomendo'], ['localizaçao', 'otima', 'recomendo'], ['localizaçao', 'otima', 'recomendo']]\n",
      "Modelling...\n",
      "[['la', 'est', 'et'], ['nous', 'un', 'le'], ['de', 'est', 'vera']]\n",
      "Modelling...\n",
      "[['super', 'ospitali', 'e'], ['la', 'e', 'ospitali'], ['la', 'e', 'ospitali']]\n",
      "Modelling...\n",
      "[['todo', 'cerca', 'de'], ['gracias', 'excelente', 'volveremos'], ['tony', 'muy', 'e']]\n",
      "Modelling...\n",
      "[['perfecto', 'cómodas', 'camas'], ['perfecto', 'cómodas', 'camas'], ['perfecto', 'cómodas', 'camas']]\n",
      "Modelling...\n",
      "[['area', 'choice', 'many'], ['great', 'bulgarian', 'need'], ['never', 'leaving', 'home']]\n",
      "Modelling...\n",
      "[['experience', 'perfect'], ['experience', 'perfect'], ['experience', 'perfect']]\n",
      "Modelling...\n",
      "[['convenient', 'stylish', 'space'], ['church', 'looking', 'amazing'], ['convenient', 'stylish', 'space']]\n",
      "Modelling...\n",
      "[['great'], ['great'], ['great']]\n",
      "Modelling...\n",
      "[['host', 'helpful', 'view'], ['host', 'helpful', 'view'], ['nice', 'location', 'view']]\n",
      "Modelling...\n",
      "[['hospitality', 'luchesar', 'thanks'], ['hospitality', 'luchesar', 'thanks'], ['excellent', 'appartment', 'great']]\n",
      "Modelling...\n",
      "[['perfectly', 'bar', 'nice'], ['again', 'place', 'staying'], ['good', 'level', 'privacy']]\n",
      "Modelling...\n",
      "[['picture', 'аbsolutely', 'description'], ['comfortable', 'stylish', 'bed'], ['comfortable', 'stylish', 'bed']]\n",
      "Modelling...\n",
      "[['interesting', 'stall', 'bar'], ['sofia', 'right', 'stylish'], ['go', 'wonderful', 'drink']]\n",
      "Modelling...\n",
      "[['perfect', 'heart', 'city'], ['host', 'friendly', 'nice'], ['great', 'made', 'apartment']]\n",
      "Modelling...\n",
      "[['recommend', 'staying', 'definitely'], ['offer', 'restaurant', 'apartment'], ['question', 'meeting', 'host']]\n",
      "Modelling...\n",
      "[['located', 'apartment', 'provides'], ['grab', 'need', 'relaxed'], ['sofia', 'place', 'stay']]\n",
      "Modelling...\n",
      "[['lovely', 'flat', 'communication'], ['great', 'lovely', 'flat'], ['cafe', 'bar', 'close']]\n",
      "Modelling...\n",
      "[['otherwise', 'square', 'morning'], ['central', 'nice', 'flat'], ['central', 'nice', 'flat']]\n",
      "Modelling...\n",
      "[['apt', 'bonus', 'church'], ['would', 'recommend', 'great'], ['go', 'could', 'know']]\n",
      "Modelling...\n",
      "[['apartment', 'backyard', 'called'], ['area', 'lucho', 'checkingout'], ['3', 'great', 'enough']]\n",
      "Modelling...\n",
      "[['picture', 'nice', 'luchesar’s'], ['quite', 'some', 'overall'], ['picture', 'nice', 'luchesar’s']]\n",
      "Modelling...\n",
      "[['walking', 'place', 'distance'], ['walking', 'place', 'distance'], ['walking', 'place', 'distance']]\n",
      "Modelling...\n",
      "[['topadres'], ['topadres'], ['topadres']]\n",
      "Modelling...\n",
      "[['modern', 'location', 'bright'], ['modern', 'location', 'bright'], ['modern', 'location', 'bright']]\n",
      "Modelling...\n",
      "[['to', 'adapt', 'stylish'], ['to', 'adapt', 'stylish'], ['centralt', 'located', 'apartment']]\n",
      "Modelling...\n",
      "[['place', 'money', 'good'], ['place', 'nice', 'sofia'], ['amenity', 'sparkling', 'clear']]\n",
      "Modelling...\n",
      "[['definitely', 'floor', 'fifth'], ['recommend', 'sofia', 'exploring'], ['stylish', 'trip', '3']]\n",
      "Modelling...\n",
      "[['highly', 'recommended', 'prompt'], ['felt', 'homely', '10'], ['apartment', 'overlooking', 'squareexactly']]\n",
      "Modelling...\n",
      "[['great', 'view', 'floor'], ['view', 'unbeatable', 'location'], ['blanket', 'everything', 'hand']]\n",
      "Modelling...\n",
      "[['nice', 'long', 'five'], ['many', 'reached', 'foot'], ['truly', 'amazing', 'location']]\n",
      "Modelling...\n",
      "[['checkin', 'arrived', 'everything'], ['recommend', 'totally', 'apartment'], ['place', 'shop', 'lot']]\n",
      "Modelling...\n",
      "[['thank', 'you', 'great'], ['nice', 'studio', 'thank'], ['location', 'great', 'thank']]\n",
      "Modelling...\n",
      "[['great', 'place', 'location'], ['great', 'location', 'place'], ['great', 'place', 'location']]\n",
      "Modelling...\n",
      "[['alive', 'apartment', 'front'], ['friendly', 'helpful', 'contact'], ['day', 'wunderful', 'sofia']]\n",
      "Modelling...\n",
      "[['great', 'really', 'city'], ['church', 'view', 'lovely'], ['host', 'late', 'check']]\n"
     ]
    },
    {
     "ename": "KeyboardInterrupt",
     "evalue": "",
     "output_type": "error",
     "traceback": [
      "\u001b[0;31m---------------------------------------------------------------------------\u001b[0m",
      "\u001b[0;31mKeyboardInterrupt\u001b[0m                         Traceback (most recent call last)",
      "\u001b[0;32m<ipython-input-11-9499c864c50e>\u001b[0m in \u001b[0;36m<module>\u001b[0;34m\u001b[0m\n\u001b[1;32m      2\u001b[0m     \u001b[0mreviews\u001b[0m \u001b[0;34m=\u001b[0m \u001b[0mjson\u001b[0m\u001b[0;34m.\u001b[0m\u001b[0mloads\u001b[0m\u001b[0;34m(\u001b[0m\u001b[0mloc\u001b[0m\u001b[0;34m[\u001b[0m\u001b[0;36m2\u001b[0m\u001b[0;34m]\u001b[0m\u001b[0;34m)\u001b[0m\u001b[0;34m\u001b[0m\u001b[0;34m\u001b[0m\u001b[0m\n\u001b[1;32m      3\u001b[0m     \u001b[0;32mfor\u001b[0m \u001b[0mreview\u001b[0m \u001b[0;32min\u001b[0m \u001b[0mreviews\u001b[0m\u001b[0;34m:\u001b[0m\u001b[0;34m\u001b[0m\u001b[0;34m\u001b[0m\u001b[0m\n\u001b[0;32m----> 4\u001b[0;31m         \u001b[0mprint\u001b[0m\u001b[0;34m(\u001b[0m\u001b[0mTopicModelling\u001b[0m\u001b[0;34m(\u001b[0m\u001b[0mreview\u001b[0m\u001b[0;34m)\u001b[0m\u001b[0;34m.\u001b[0m\u001b[0mget_topics\u001b[0m\u001b[0;34m(\u001b[0m\u001b[0;34m)\u001b[0m\u001b[0;34m)\u001b[0m\u001b[0;34m\u001b[0m\u001b[0;34m\u001b[0m\u001b[0m\n\u001b[0m\u001b[1;32m      5\u001b[0m \u001b[0;34m\u001b[0m\u001b[0m\n",
      "\u001b[0;32m~/Desktop/Peper-Analysis/data-analysis/nlp/topic_modelling.py\u001b[0m in \u001b[0;36mget_topics\u001b[0;34m(self)\u001b[0m\n\u001b[1;32m     43\u001b[0m     \u001b[0;32mdef\u001b[0m \u001b[0mget_topics\u001b[0m\u001b[0;34m(\u001b[0m\u001b[0mself\u001b[0m\u001b[0;34m)\u001b[0m\u001b[0;34m:\u001b[0m\u001b[0;34m\u001b[0m\u001b[0;34m\u001b[0m\u001b[0m\n\u001b[1;32m     44\u001b[0m         ldamodel = LDA(self.doc_term_matrix, num_topics=self.num_topics, id2word=self.id2word,\n\u001b[0;32m---> 45\u001b[0;31m             passes=self.passes, iterations=self.iterations)\n\u001b[0m\u001b[1;32m     46\u001b[0m \u001b[0;34m\u001b[0m\u001b[0m\n\u001b[1;32m     47\u001b[0m         \u001b[0mprint\u001b[0m\u001b[0;34m(\u001b[0m\u001b[0;34m\"Modelling...\"\u001b[0m\u001b[0;34m)\u001b[0m\u001b[0;34m\u001b[0m\u001b[0;34m\u001b[0m\u001b[0m\n",
      "\u001b[0;32m~/.local/share/virtualenvs/Peper-Analysis-eBzTI8A5/lib/python3.7/site-packages/gensim/models/ldamodel.py\u001b[0m in \u001b[0;36m__init__\u001b[0;34m(self, corpus, num_topics, id2word, distributed, chunksize, passes, update_every, alpha, eta, decay, offset, eval_every, iterations, gamma_threshold, minimum_probability, random_state, ns_conf, minimum_phi_value, per_word_topics, callbacks, dtype)\u001b[0m\n\u001b[1;32m    513\u001b[0m         \u001b[0;32mif\u001b[0m \u001b[0mcorpus\u001b[0m \u001b[0;32mis\u001b[0m \u001b[0;32mnot\u001b[0m \u001b[0;32mNone\u001b[0m\u001b[0;34m:\u001b[0m\u001b[0;34m\u001b[0m\u001b[0;34m\u001b[0m\u001b[0m\n\u001b[1;32m    514\u001b[0m             \u001b[0muse_numpy\u001b[0m \u001b[0;34m=\u001b[0m \u001b[0mself\u001b[0m\u001b[0;34m.\u001b[0m\u001b[0mdispatcher\u001b[0m \u001b[0;32mis\u001b[0m \u001b[0;32mnot\u001b[0m \u001b[0;32mNone\u001b[0m\u001b[0;34m\u001b[0m\u001b[0;34m\u001b[0m\u001b[0m\n\u001b[0;32m--> 515\u001b[0;31m             \u001b[0mself\u001b[0m\u001b[0;34m.\u001b[0m\u001b[0mupdate\u001b[0m\u001b[0;34m(\u001b[0m\u001b[0mcorpus\u001b[0m\u001b[0;34m,\u001b[0m \u001b[0mchunks_as_numpy\u001b[0m\u001b[0;34m=\u001b[0m\u001b[0muse_numpy\u001b[0m\u001b[0;34m)\u001b[0m\u001b[0;34m\u001b[0m\u001b[0;34m\u001b[0m\u001b[0m\n\u001b[0m\u001b[1;32m    516\u001b[0m \u001b[0;34m\u001b[0m\u001b[0m\n\u001b[1;32m    517\u001b[0m     \u001b[0;32mdef\u001b[0m \u001b[0minit_dir_prior\u001b[0m\u001b[0;34m(\u001b[0m\u001b[0mself\u001b[0m\u001b[0;34m,\u001b[0m \u001b[0mprior\u001b[0m\u001b[0;34m,\u001b[0m \u001b[0mname\u001b[0m\u001b[0;34m)\u001b[0m\u001b[0;34m:\u001b[0m\u001b[0;34m\u001b[0m\u001b[0;34m\u001b[0m\u001b[0m\n",
      "\u001b[0;32m~/.local/share/virtualenvs/Peper-Analysis-eBzTI8A5/lib/python3.7/site-packages/gensim/models/ldamodel.py\u001b[0m in \u001b[0;36mupdate\u001b[0;34m(self, corpus, chunksize, decay, offset, passes, update_every, eval_every, iterations, gamma_threshold, chunks_as_numpy)\u001b[0m\n\u001b[1;32m    946\u001b[0m \u001b[0;34m\u001b[0m\u001b[0m\n\u001b[1;32m    947\u001b[0m                 \u001b[0;32mif\u001b[0m \u001b[0meval_every\u001b[0m \u001b[0;32mand\u001b[0m \u001b[0;34m(\u001b[0m\u001b[0;34m(\u001b[0m\u001b[0mreallen\u001b[0m \u001b[0;34m==\u001b[0m \u001b[0mlencorpus\u001b[0m\u001b[0;34m)\u001b[0m \u001b[0;32mor\u001b[0m \u001b[0;34m(\u001b[0m\u001b[0;34m(\u001b[0m\u001b[0mchunk_no\u001b[0m \u001b[0;34m+\u001b[0m \u001b[0;36m1\u001b[0m\u001b[0;34m)\u001b[0m \u001b[0;34m%\u001b[0m \u001b[0;34m(\u001b[0m\u001b[0meval_every\u001b[0m \u001b[0;34m*\u001b[0m \u001b[0mself\u001b[0m\u001b[0;34m.\u001b[0m\u001b[0mnumworkers\u001b[0m\u001b[0;34m)\u001b[0m \u001b[0;34m==\u001b[0m \u001b[0;36m0\u001b[0m\u001b[0;34m)\u001b[0m\u001b[0;34m)\u001b[0m\u001b[0;34m:\u001b[0m\u001b[0;34m\u001b[0m\u001b[0;34m\u001b[0m\u001b[0m\n\u001b[0;32m--> 948\u001b[0;31m                     \u001b[0mself\u001b[0m\u001b[0;34m.\u001b[0m\u001b[0mlog_perplexity\u001b[0m\u001b[0;34m(\u001b[0m\u001b[0mchunk\u001b[0m\u001b[0;34m,\u001b[0m \u001b[0mtotal_docs\u001b[0m\u001b[0;34m=\u001b[0m\u001b[0mlencorpus\u001b[0m\u001b[0;34m)\u001b[0m\u001b[0;34m\u001b[0m\u001b[0;34m\u001b[0m\u001b[0m\n\u001b[0m\u001b[1;32m    949\u001b[0m \u001b[0;34m\u001b[0m\u001b[0m\n\u001b[1;32m    950\u001b[0m                 \u001b[0;32mif\u001b[0m \u001b[0mself\u001b[0m\u001b[0;34m.\u001b[0m\u001b[0mdispatcher\u001b[0m\u001b[0;34m:\u001b[0m\u001b[0;34m\u001b[0m\u001b[0;34m\u001b[0m\u001b[0m\n",
      "\u001b[0;32m~/.local/share/virtualenvs/Peper-Analysis-eBzTI8A5/lib/python3.7/site-packages/gensim/models/ldamodel.py\u001b[0m in \u001b[0;36mlog_perplexity\u001b[0;34m(self, chunk, total_docs)\u001b[0m\n\u001b[1;32m    802\u001b[0m         \u001b[0mcorpus_words\u001b[0m \u001b[0;34m=\u001b[0m \u001b[0msum\u001b[0m\u001b[0;34m(\u001b[0m\u001b[0mcnt\u001b[0m \u001b[0;32mfor\u001b[0m \u001b[0mdocument\u001b[0m \u001b[0;32min\u001b[0m \u001b[0mchunk\u001b[0m \u001b[0;32mfor\u001b[0m \u001b[0m_\u001b[0m\u001b[0;34m,\u001b[0m \u001b[0mcnt\u001b[0m \u001b[0;32min\u001b[0m \u001b[0mdocument\u001b[0m\u001b[0;34m)\u001b[0m\u001b[0;34m\u001b[0m\u001b[0;34m\u001b[0m\u001b[0m\n\u001b[1;32m    803\u001b[0m         \u001b[0msubsample_ratio\u001b[0m \u001b[0;34m=\u001b[0m \u001b[0;36m1.0\u001b[0m \u001b[0;34m*\u001b[0m \u001b[0mtotal_docs\u001b[0m \u001b[0;34m/\u001b[0m \u001b[0mlen\u001b[0m\u001b[0;34m(\u001b[0m\u001b[0mchunk\u001b[0m\u001b[0;34m)\u001b[0m\u001b[0;34m\u001b[0m\u001b[0;34m\u001b[0m\u001b[0m\n\u001b[0;32m--> 804\u001b[0;31m         \u001b[0mperwordbound\u001b[0m \u001b[0;34m=\u001b[0m \u001b[0mself\u001b[0m\u001b[0;34m.\u001b[0m\u001b[0mbound\u001b[0m\u001b[0;34m(\u001b[0m\u001b[0mchunk\u001b[0m\u001b[0;34m,\u001b[0m \u001b[0msubsample_ratio\u001b[0m\u001b[0;34m=\u001b[0m\u001b[0msubsample_ratio\u001b[0m\u001b[0;34m)\u001b[0m \u001b[0;34m/\u001b[0m \u001b[0;34m(\u001b[0m\u001b[0msubsample_ratio\u001b[0m \u001b[0;34m*\u001b[0m \u001b[0mcorpus_words\u001b[0m\u001b[0;34m)\u001b[0m\u001b[0;34m\u001b[0m\u001b[0;34m\u001b[0m\u001b[0m\n\u001b[0m\u001b[1;32m    805\u001b[0m         logger.info(\n\u001b[1;32m    806\u001b[0m             \u001b[0;34m\"%.3f per-word bound, %.1f perplexity estimate based on a held-out corpus of %i documents with %i words\"\u001b[0m\u001b[0;34m,\u001b[0m\u001b[0;34m\u001b[0m\u001b[0;34m\u001b[0m\u001b[0m\n",
      "\u001b[0;32m~/.local/share/virtualenvs/Peper-Analysis-eBzTI8A5/lib/python3.7/site-packages/gensim/models/ldamodel.py\u001b[0m in \u001b[0;36mbound\u001b[0;34m(self, corpus, gamma, subsample_ratio)\u001b[0m\n\u001b[1;32m   1066\u001b[0m                 \u001b[0mlogger\u001b[0m\u001b[0;34m.\u001b[0m\u001b[0mdebug\u001b[0m\u001b[0;34m(\u001b[0m\u001b[0;34m\"bound: at document #%i\"\u001b[0m\u001b[0;34m,\u001b[0m \u001b[0md\u001b[0m\u001b[0;34m)\u001b[0m\u001b[0;34m\u001b[0m\u001b[0;34m\u001b[0m\u001b[0m\n\u001b[1;32m   1067\u001b[0m             \u001b[0;32mif\u001b[0m \u001b[0mgamma\u001b[0m \u001b[0;32mis\u001b[0m \u001b[0;32mNone\u001b[0m\u001b[0;34m:\u001b[0m\u001b[0;34m\u001b[0m\u001b[0;34m\u001b[0m\u001b[0m\n\u001b[0;32m-> 1068\u001b[0;31m                 \u001b[0mgammad\u001b[0m\u001b[0;34m,\u001b[0m \u001b[0m_\u001b[0m \u001b[0;34m=\u001b[0m \u001b[0mself\u001b[0m\u001b[0;34m.\u001b[0m\u001b[0minference\u001b[0m\u001b[0;34m(\u001b[0m\u001b[0;34m[\u001b[0m\u001b[0mdoc\u001b[0m\u001b[0;34m]\u001b[0m\u001b[0;34m)\u001b[0m\u001b[0;34m\u001b[0m\u001b[0;34m\u001b[0m\u001b[0m\n\u001b[0m\u001b[1;32m   1069\u001b[0m             \u001b[0;32melse\u001b[0m\u001b[0;34m:\u001b[0m\u001b[0;34m\u001b[0m\u001b[0;34m\u001b[0m\u001b[0m\n\u001b[1;32m   1070\u001b[0m                 \u001b[0mgammad\u001b[0m \u001b[0;34m=\u001b[0m \u001b[0mgamma\u001b[0m\u001b[0;34m[\u001b[0m\u001b[0md\u001b[0m\u001b[0;34m]\u001b[0m\u001b[0;34m\u001b[0m\u001b[0;34m\u001b[0m\u001b[0m\n",
      "\u001b[0;32m~/.local/share/virtualenvs/Peper-Analysis-eBzTI8A5/lib/python3.7/site-packages/gensim/models/ldamodel.py\u001b[0m in \u001b[0;36minference\u001b[0;34m(self, chunk, collect_sstats)\u001b[0m\n\u001b[1;32m    674\u001b[0m                 \u001b[0;31m# Substituting the value of the optimal phi back into\u001b[0m\u001b[0;34m\u001b[0m\u001b[0;34m\u001b[0m\u001b[0;34m\u001b[0m\u001b[0m\n\u001b[1;32m    675\u001b[0m                 \u001b[0;31m# the update for gamma gives this update. Cf. Lee&Seung 2001.\u001b[0m\u001b[0;34m\u001b[0m\u001b[0;34m\u001b[0m\u001b[0;34m\u001b[0m\u001b[0m\n\u001b[0;32m--> 676\u001b[0;31m                 \u001b[0mgammad\u001b[0m \u001b[0;34m=\u001b[0m \u001b[0mself\u001b[0m\u001b[0;34m.\u001b[0m\u001b[0malpha\u001b[0m \u001b[0;34m+\u001b[0m \u001b[0mexpElogthetad\u001b[0m \u001b[0;34m*\u001b[0m \u001b[0mnp\u001b[0m\u001b[0;34m.\u001b[0m\u001b[0mdot\u001b[0m\u001b[0;34m(\u001b[0m\u001b[0mcts\u001b[0m \u001b[0;34m/\u001b[0m \u001b[0mphinorm\u001b[0m\u001b[0;34m,\u001b[0m \u001b[0mexpElogbetad\u001b[0m\u001b[0;34m.\u001b[0m\u001b[0mT\u001b[0m\u001b[0;34m)\u001b[0m\u001b[0;34m\u001b[0m\u001b[0;34m\u001b[0m\u001b[0m\n\u001b[0m\u001b[1;32m    677\u001b[0m                 \u001b[0mElogthetad\u001b[0m \u001b[0;34m=\u001b[0m \u001b[0mdirichlet_expectation\u001b[0m\u001b[0;34m(\u001b[0m\u001b[0mgammad\u001b[0m\u001b[0;34m)\u001b[0m\u001b[0;34m\u001b[0m\u001b[0;34m\u001b[0m\u001b[0m\n\u001b[1;32m    678\u001b[0m                 \u001b[0mexpElogthetad\u001b[0m \u001b[0;34m=\u001b[0m \u001b[0mnp\u001b[0m\u001b[0;34m.\u001b[0m\u001b[0mexp\u001b[0m\u001b[0;34m(\u001b[0m\u001b[0mElogthetad\u001b[0m\u001b[0;34m)\u001b[0m\u001b[0;34m\u001b[0m\u001b[0;34m\u001b[0m\u001b[0m\n",
      "\u001b[0;31mKeyboardInterrupt\u001b[0m: "
     ]
    }
   ],
   "source": [
    "for loc in sofia_airbnb.values:\n",
    "    reviews = json.loads(loc[2])\n",
    "    for review in reviews:\n",
    "        print(TopicModelling(review).get_topics())\n",
    "        "
   ]
  },
  {
   "cell_type": "markdown",
   "metadata": {},
   "source": [
    "## Term-Frequency x Inverse-Doc-Freq"
   ]
  },
  {
   "cell_type": "code",
   "execution_count": null,
   "metadata": {},
   "outputs": [],
   "source": [
    "for loc in sofia_airbnb.values:\n",
    "    tf_idf = TfidfVectorizer(use_idf=True, stop_words=stop_words_en)\n",
    "    X = tf_idf.fit_transform(json.loads(loc[2]))\n",
    "    \n",
    "    tfs = np.mean(X.todense(), axis=0) * .1\n",
    "    scores = np.multiply(tfs, tf_idf.idf_.reshape(tfs.shape))\n",
    "    \n",
    "    terms = np.array(tf_idf.get_feature_names()).reshape(tfs.shape)\n",
    "    zipped = np.hstack((terms.T, scores.T)).tolist()\n",
    "    print(np.array(sorted(zipped, key=lambda x: x[1], reverse=True)))\n",
    "    \n",
    "    print('='*100)\n",
    "    print('='*100)"
   ]
  },
  {
   "cell_type": "code",
   "execution_count": null,
   "metadata": {},
   "outputs": [],
   "source": []
  }
 ],
 "metadata": {
  "kernelspec": {
   "display_name": "Python 3",
   "language": "python",
   "name": "python3"
  },
  "language_info": {
   "codemirror_mode": {
    "name": "ipython",
    "version": 3
   },
   "file_extension": ".py",
   "mimetype": "text/x-python",
   "name": "python",
   "nbconvert_exporter": "python",
   "pygments_lexer": "ipython3",
   "version": "3.7.1"
  }
 },
 "nbformat": 4,
 "nbformat_minor": 2
}
